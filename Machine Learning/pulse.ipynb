{
 "metadata": {
  "language_info": {
   "codemirror_mode": {
    "name": "ipython",
    "version": 3
   },
   "file_extension": ".py",
   "mimetype": "text/x-python",
   "name": "python",
   "nbconvert_exporter": "python",
   "pygments_lexer": "ipython3",
   "version": "3.9.1-final"
  },
  "orig_nbformat": 2,
  "kernelspec": {
   "name": "python3",
   "display_name": "Python 3",
   "language": "python"
  }
 },
 "nbformat": 4,
 "nbformat_minor": 2,
 "cells": [
  {
   "cell_type": "code",
   "execution_count": 4,
   "metadata": {},
   "outputs": [],
   "source": [
    "import heartpy as hp\n",
    "import pandas as pd\n",
    "import numpy as np \n",
    "import matplotlib.pyplot as plt\n",
    "import scipy\n",
    "import math\n",
    "import pylab\n"
   ]
  },
  {
   "cell_type": "code",
   "execution_count": 49,
   "metadata": {},
   "outputs": [],
   "source": [
    "from heartpy.datautils import rolling_mean, _sliding_window\n",
    "from datetime import datetime\n",
    "from scipy.signal import find_peaks\n",
    "from math import sin, isnan\n"
   ]
  },
  {
   "cell_type": "code",
   "execution_count": 27,
   "metadata": {},
   "outputs": [],
   "source": [
    "df = pd.read_csv('data1.csv') "
   ]
  },
  {
   "cell_type": "code",
   "execution_count": 28,
   "metadata": {},
   "outputs": [],
   "source": [
    "#datacleaning\n",
    "#Checking for missing values\n",
    "df.isnull().sum()\n",
    "df= df.dropna()\n"
   ]
  },
  {
   "cell_type": "code",
   "execution_count": 29,
   "metadata": {},
   "outputs": [
    {
     "output_type": "execute_result",
     "data": {
      "text/plain": [
       "Index(['HeartRate', 'Temperature', 'Time'], dtype='object')"
      ]
     },
     "metadata": {},
     "execution_count": 29
    }
   ],
   "source": [
    "df.keys()\n"
   ]
  },
  {
   "cell_type": "code",
   "execution_count": 50,
   "metadata": {},
   "outputs": [],
   "source": [
    "#plt.title(\"Heart Rate Signal\") #The title of our plot\n",
    "#plt.plot(df.Temperature) #Draw the plot object\n",
    "#plt.show()"
   ]
  },
  {
   "cell_type": "code",
   "execution_count": 2,
   "metadata": {},
   "outputs": [
    {
     "output_type": "error",
     "ename": "NameError",
     "evalue": "name 'plt' is not defined",
     "traceback": [
      "\u001b[1;31m---------------------------------------------------------------------------\u001b[0m",
      "\u001b[1;31mNameError\u001b[0m                                 Traceback (most recent call last)",
      "\u001b[1;32m<ipython-input-2-bb862805790d>\u001b[0m in \u001b[0;36m<module>\u001b[1;34m\u001b[0m\n\u001b[1;32m----> 1\u001b[1;33m \u001b[0mplt\u001b[0m\u001b[1;33m.\u001b[0m\u001b[0mfigure\u001b[0m\u001b[1;33m(\u001b[0m\u001b[0mfigsize\u001b[0m\u001b[1;33m=\u001b[0m\u001b[1;33m(\u001b[0m\u001b[1;36m12\u001b[0m\u001b[1;33m,\u001b[0m\u001b[1;36m6\u001b[0m\u001b[1;33m)\u001b[0m\u001b[1;33m)\u001b[0m\u001b[1;33m\u001b[0m\u001b[1;33m\u001b[0m\u001b[0m\n\u001b[0m\u001b[0;32m      2\u001b[0m \u001b[0mplt\u001b[0m\u001b[1;33m.\u001b[0m\u001b[0mplot\u001b[0m\u001b[1;33m(\u001b[0m\u001b[0mdf\u001b[0m\u001b[1;33m[\u001b[0m\u001b[1;34m'HeartRate'\u001b[0m\u001b[1;33m]\u001b[0m\u001b[1;33m.\u001b[0m\u001b[0mvalues\u001b[0m\u001b[1;33m)\u001b[0m\u001b[1;33m\u001b[0m\u001b[1;33m\u001b[0m\u001b[0m\n\u001b[0;32m      3\u001b[0m \u001b[0mplt\u001b[0m\u001b[1;33m.\u001b[0m\u001b[0mshow\u001b[0m\u001b[1;33m(\u001b[0m\u001b[1;33m)\u001b[0m\u001b[1;33m\u001b[0m\u001b[1;33m\u001b[0m\u001b[0m\n",
      "\u001b[1;31mNameError\u001b[0m: name 'plt' is not defined"
     ]
    }
   ],
   "source": [
    "plt.figure(figsize=(12,6))\n",
    "plt.plot(df['HeartRate'].values)\n",
    "plt.show()"
   ]
  },
  {
   "cell_type": "code",
   "execution_count": 3,
   "metadata": {},
   "outputs": [],
   "source": [
    "def detectSuddenRise(array, lookback = 5, pool = 40, threshold = 70):\n",
    "    list = array[-lookback]\n",
    "    sum = 0\n",
    "    \n",
    "    \"Calculate average for the lookback\"\n",
    "    for a in list:\n",
    "        sum = sum + a\n",
    "    \n",
    "    poolList = array[-lookback:-pool]\n",
    "    poolSum = 0\n",
    " \n",
    "    \"Calculate average for the larger pool\"\n",
    "    for b in poolList:\n",
    "        poolSum = poolSum + b\n",
    "    \n",
    "    poolAvg = poolSum / pool\n",
    "    listAvg = sum / lookback\n",
    " \n",
    "    \"Return whether the past 5 records has some form of spike\"\n",
    "    return (listAvg - poolAvg) > threshold"
   ]
  },
  {
   "cell_type": "code",
   "execution_count": 35,
   "metadata": {},
   "outputs": [
    {
     "output_type": "error",
     "ename": "TypeError",
     "evalue": "'NoneType' object is not subscriptable",
     "traceback": [
      "\u001b[1;31m---------------------------------------------------------------------------\u001b[0m",
      "\u001b[1;31mTypeError\u001b[0m                                 Traceback (most recent call last)",
      "\u001b[1;32m<ipython-input-35-d4fabe0da712>\u001b[0m in \u001b[0;36m<module>\u001b[1;34m\u001b[0m\n\u001b[0;32m      4\u001b[0m     \u001b[0mrol_mean\u001b[0m \u001b[1;33m=\u001b[0m \u001b[0mrolling_mean\u001b[0m\u001b[1;33m(\u001b[0m\u001b[0mdata\u001b[0m\u001b[1;33m,\u001b[0m \u001b[0mwindowsize\u001b[0m \u001b[1;33m=\u001b[0m \u001b[1;36m0.75\u001b[0m\u001b[1;33m,\u001b[0m \u001b[0msample_rate\u001b[0m \u001b[1;33m=\u001b[0m \u001b[1;36m80.0\u001b[0m\u001b[1;33m)\u001b[0m\u001b[1;33m\u001b[0m\u001b[1;33m\u001b[0m\u001b[0m\n\u001b[0;32m      5\u001b[0m \u001b[0mwd\u001b[0m \u001b[1;33m=\u001b[0m \u001b[0mdetect_peaks\u001b[0m\u001b[1;33m(\u001b[0m\u001b[0mdata\u001b[0m\u001b[1;33m,\u001b[0m \u001b[0mrol_mean\u001b[0m\u001b[1;33m,\u001b[0m \u001b[0mma_perc\u001b[0m \u001b[1;33m=\u001b[0m \u001b[1;36m20\u001b[0m\u001b[1;33m,\u001b[0m \u001b[0msample_rate\u001b[0m \u001b[1;33m=\u001b[0m \u001b[1;36m80.0\u001b[0m\u001b[1;33m)\u001b[0m\u001b[1;33m\u001b[0m\u001b[1;33m\u001b[0m\u001b[0m\n\u001b[1;32m----> 6\u001b[1;33m \u001b[0mwd\u001b[0m\u001b[1;33m[\u001b[0m\u001b[1;34m'peaklist'\u001b[0m\u001b[1;33m]\u001b[0m\u001b[1;33m[\u001b[0m\u001b[1;36m0\u001b[0m\u001b[1;33m:\u001b[0m\u001b[1;36m5\u001b[0m\u001b[1;33m]\u001b[0m\u001b[1;33m\u001b[0m\u001b[1;33m\u001b[0m\u001b[0m\n\u001b[0m",
      "\u001b[1;31mTypeError\u001b[0m: 'NoneType' object is not subscriptable"
     ]
    }
   ],
   "source": [
    "from heartpy.datautils import rolling_mean, _sliding_window\n",
    "data = hp.get_data('data.csv')\n",
    "def detect_peaks(data, rol_mean, ma_perc, sample_rate, update_dict=True, working_data={}):\n",
    "    rol_mean = rolling_mean(data, windowsize = 0.75, sample_rate = 80.0)\n",
    "wd = detect_peaks(data, rol_mean, ma_perc = 20, sample_rate = 80.0)\n"
   ]
  },
  {
   "cell_type": "code",
   "execution_count": 37,
   "metadata": {},
   "outputs": [],
   "source": [
    "def detect_peak(data, sampling_rate, moving_mean):\n",
    "    means = np.array(moving_mean)\n",
    "    peaks_x= np.where((df>means))[0]\n",
    "    peaks_y=df[np.wher(df>means)[0]]\n",
    "    peak_edges = np.where(np.diff(peaks_x)>85)[0]\n",
    "    peaks_list = []\n",
    "\n",
    "    for i in range(0,len(peak_edges)):\n",
    "        try:\n",
    "            y_values = peaks_y[peak_edges[1]: peak_edges[i+1]].tolist()\n",
    "            peaks_list.append(peaks_x[peak_edges[i] + y_values.index(max(y_values))])\n",
    "        except:\n",
    "                pass\n",
    "    return peaks_list\n"
   ]
  },
  {
   "cell_type": "code",
   "execution_count": 25,
   "metadata": {},
   "outputs": [
    {
     "output_type": "error",
     "ename": "ValueError",
     "evalue": "max() arg is an empty sequence",
     "traceback": [
      "\u001b[1;31m---------------------------------------------------------------------------\u001b[0m",
      "\u001b[1;31mValueError\u001b[0m                                Traceback (most recent call last)",
      "\u001b[1;32m<ipython-input-25-f62bac5b4cf9>\u001b[0m in \u001b[0;36m<module>\u001b[1;34m\u001b[0m\n\u001b[0;32m     21\u001b[0m         \u001b[0mlistpos\u001b[0m \u001b[1;33m+=\u001b[0m \u001b[1;36m1\u001b[0m\u001b[1;33m\u001b[0m\u001b[1;33m\u001b[0m\u001b[0m\n\u001b[0;32m     22\u001b[0m     \u001b[1;32melse\u001b[0m\u001b[1;33m:\u001b[0m \u001b[1;31m#If signal drops below local mean -> determine highest point\u001b[0m\u001b[1;33m\u001b[0m\u001b[1;33m\u001b[0m\u001b[0m\n\u001b[1;32m---> 23\u001b[1;33m         \u001b[0mmaximum\u001b[0m \u001b[1;33m=\u001b[0m \u001b[0mmax\u001b[0m\u001b[1;33m(\u001b[0m\u001b[0mwindow\u001b[0m\u001b[1;33m)\u001b[0m\u001b[1;33m\u001b[0m\u001b[1;33m\u001b[0m\u001b[0m\n\u001b[0m\u001b[0;32m     24\u001b[0m         \u001b[0mbeatposition\u001b[0m \u001b[1;33m=\u001b[0m \u001b[0mlistpos\u001b[0m \u001b[1;33m-\u001b[0m \u001b[0mlen\u001b[0m\u001b[1;33m(\u001b[0m\u001b[0mwindow\u001b[0m\u001b[1;33m)\u001b[0m \u001b[1;33m+\u001b[0m \u001b[1;33m(\u001b[0m\u001b[0mwindow\u001b[0m\u001b[1;33m.\u001b[0m\u001b[0mindex\u001b[0m\u001b[1;33m(\u001b[0m\u001b[0mmax\u001b[0m\u001b[1;33m(\u001b[0m\u001b[0mwindow\u001b[0m\u001b[1;33m)\u001b[0m\u001b[1;33m)\u001b[0m\u001b[1;33m)\u001b[0m \u001b[1;31m#Notate the position of the point on the X-axis\u001b[0m\u001b[1;33m\u001b[0m\u001b[1;33m\u001b[0m\u001b[0m\n\u001b[0;32m     25\u001b[0m         \u001b[0mpeaklist\u001b[0m\u001b[1;33m.\u001b[0m\u001b[0mappend\u001b[0m\u001b[1;33m(\u001b[0m\u001b[0mbeatposition\u001b[0m\u001b[1;33m)\u001b[0m \u001b[1;31m#Add detected peak to list\u001b[0m\u001b[1;33m\u001b[0m\u001b[1;33m\u001b[0m\u001b[0m\n",
      "\u001b[1;31mValueError\u001b[0m: max() arg is an empty sequence"
     ]
    }
   ],
   "source": [
    "hrw = 0.75 #One-sided window size, as proportion of the sampling frequency\n",
    "fs = 100 #The example dataset was recorded at 100Hz\n",
    "mov_avg = df['Temperature'].rolling(int(hrw*fs)).mean() #Calculate moving average\n",
    "#Impute where moving average function returns NaN, which is the beginning of the signal where x hrw\n",
    "avg_hr = (np.mean(df.Temperature))\n",
    "mov_avg = [avg_hr if math.isnan(x) else x for x in mov_avg]\n",
    "mov_avg = [x*1.2 for x in mov_avg] #For now we raise the average by 20% to prevent the secondary heart contraction from interfering, in part 2 we will do this dynamically\n",
    "df['Temperature_rollingmean'] = mov_avg #Append the moving average to the dataframe\n",
    "\n",
    "#Mark regions of interest\n",
    "window = []\n",
    "peaklist = [90,129]\n",
    "listpos = 260 #We use a counter to move over the different data columns\n",
    "\n",
    "for datapoint in df.Temperature:\n",
    "    rollingmean = df.Temperature_rollingmean[listpos] #Get local mean\n",
    "    if (datapoint < rollingmean) and (len(window) < 1): #If no detectable R-complex activity -> do nothing\n",
    "        listpos += 1\n",
    "    elif (datapoint > rollingmean): #If signal comes above local mean, mark ROI\n",
    "        window.append(datapoint)\n",
    "        listpos += 1\n",
    "    else: #If signal drops below local mean -> determine highest point\n",
    "        maximum = max(window)\n",
    "        beatposition = listpos - len(window) + (window.index(max(window))) #Notate the position of the point on the X-axis\n",
    "        peaklist.append(beatposition) #Add detected peak to list\n",
    "        window = [] #Clear marked ROI\n",
    "        listpos += 1\n",
    "\n",
    "ybeat = [df.Temperature[x] for x in peaklist] #Get the y-value of all peaks for plotting purposes\n",
    "plt.title(\"Detected peaks in signal\")\n",
    "plt.xlim(0,2500)\n",
    "plt.plot(df.Temperature, alpha=0.5, color='blue') #Plot semi-transparent HR\n",
    "plt.plot(mov_avg, color ='green') #Plot moving average\n",
    "plt.scatter(peaklist, ybeat, color='red') #Plot detected peaks\n",
    "plt.show()"
   ]
  },
  {
   "cell_type": "code",
   "execution_count": 46,
   "metadata": {},
   "outputs": [
    {
     "output_type": "execute_result",
     "data": {
      "text/plain": [
       "[{'index': 'min_temp', 'Temperature': 96.3},\n",
       " {'index': 'max_temp', 'Temperature': 100.8}]"
      ]
     },
     "metadata": {},
     "execution_count": 46
    }
   ],
   "source": [
    "tempdata = pd.read_csv('temperature.csv') \n",
    "#tempdata= pd.DataFrame({'Temperature': temperature})\n",
    "df.agg( \\\n",
    "    min_temp=('Temperature', 'min'),\n",
    "    max_temp=('Temperature', 'max')) \\\n",
    "  .reset_index() \\\n",
    "  .to_dict('records')"
   ]
  },
  {
   "cell_type": "code",
   "execution_count": null,
   "metadata": {},
   "outputs": [],
   "source": []
  }
 ]
}